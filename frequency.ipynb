{
 "cells": [
  {
   "cell_type": "code",
   "execution_count": 3,
   "id": "b3dedcbd-dd82-4e9f-a6e9-c1ae2dab3873",
   "metadata": {},
   "outputs": [],
   "source": [
    "import pandas as pd\n",
    "import numpy as np\n",
    "from collections import Counter"
   ]
  },
  {
   "cell_type": "code",
   "execution_count": 4,
   "id": "9bc35c05-0740-44e5-8810-7ae3c593beaf",
   "metadata": {},
   "outputs": [],
   "source": [
    "df = pd.read_parquet('LAGT_v3-0.parquet')"
   ]
  },
  {
   "cell_type": "code",
   "execution_count": 9,
   "id": "c8751221-a202-4e07-a35a-c4dfc06f6a77",
   "metadata": {},
   "outputs": [
    {
     "data": {
      "text/plain": [
       "1710"
      ]
     },
     "execution_count": 9,
     "metadata": {},
     "output_type": "execute_result"
    }
   ],
   "source": [
    "len(df)"
   ]
  },
  {
   "cell_type": "code",
   "execution_count": 5,
   "id": "0b97fe3d-3fbe-4339-b917-cac05863a075",
   "metadata": {},
   "outputs": [
    {
     "data": {
      "text/html": [
       "<div>\n",
       "<style scoped>\n",
       "    .dataframe tbody tr th:only-of-type {\n",
       "        vertical-align: middle;\n",
       "    }\n",
       "\n",
       "    .dataframe tbody tr th {\n",
       "        vertical-align: top;\n",
       "    }\n",
       "\n",
       "    .dataframe thead th {\n",
       "        text-align: right;\n",
       "    }\n",
       "</style>\n",
       "<table border=\"1\" class=\"dataframe\">\n",
       "  <thead>\n",
       "    <tr style=\"text-align: right;\">\n",
       "      <th></th>\n",
       "      <th>author_id</th>\n",
       "      <th>doc_id</th>\n",
       "      <th>filename</th>\n",
       "      <th>author</th>\n",
       "      <th>title</th>\n",
       "      <th>string</th>\n",
       "      <th>wordcount</th>\n",
       "      <th>source</th>\n",
       "      <th>lemmatized_sentences</th>\n",
       "      <th>lemmata_source</th>\n",
       "      <th>tlg_date</th>\n",
       "      <th>not_before</th>\n",
       "      <th>not_after</th>\n",
       "      <th>date_uncertain</th>\n",
       "      <th>tlg_epithet</th>\n",
       "      <th>provenience</th>\n",
       "      <th>lemmatacount</th>\n",
       "    </tr>\n",
       "  </thead>\n",
       "  <tbody>\n",
       "    <tr>\n",
       "      <th>2</th>\n",
       "      <td>ogl0001</td>\n",
       "      <td>ogl0001.ogl001</td>\n",
       "      <td>ogl0001.ogl001.1st1K-grc1.xml</td>\n",
       "      <td>Pinytus</td>\n",
       "      <td>De Epistola Pinyti ad Dionysium</td>\n",
       "      <td>FRAGMENTUM BEATI PINYTI, CNOSSI IN CRETA EPISC...</td>\n",
       "      <td>180</td>\n",
       "      <td>1Kgr</td>\n",
       "      <td>[[Πινυτός, ἀντιγράφω, θαυμάζω, ἀποδέχω, Διονύσ...</td>\n",
       "      <td>grecy</td>\n",
       "      <td>None</td>\n",
       "      <td>101.0</td>\n",
       "      <td>200.0</td>\n",
       "      <td>None</td>\n",
       "      <td>[]</td>\n",
       "      <td>christian</td>\n",
       "      <td>34</td>\n",
       "    </tr>\n",
       "    <tr>\n",
       "      <th>8</th>\n",
       "      <td>tlg0005</td>\n",
       "      <td>tlg0005.tlg003</td>\n",
       "      <td>tlg0005.tlg003.1st1K-grc1.xml</td>\n",
       "      <td>Theocritus</td>\n",
       "      <td>Syrinx</td>\n",
       "      <td>Οὐδενὸς εὐνάτειρα Μακροπτολέμοιο δὲ μάτηρ  μαί...</td>\n",
       "      <td>77</td>\n",
       "      <td>1Kgr</td>\n",
       "      <td>[[οὐδενός, εὐνητήρ], [μακροπτολέμοιο, μήτηρ, μ...</td>\n",
       "      <td>grecy</td>\n",
       "      <td>4-3 B.C.</td>\n",
       "      <td>-400.0</td>\n",
       "      <td>-201.0</td>\n",
       "      <td>False</td>\n",
       "      <td>[Bucolici]</td>\n",
       "      <td>pagan</td>\n",
       "      <td>61</td>\n",
       "    </tr>\n",
       "    <tr>\n",
       "      <th>9</th>\n",
       "      <td>tlg0006</td>\n",
       "      <td>tlg0006.tlg020</td>\n",
       "      <td>tlg0006.tlg020.1st1K-grc1.xml</td>\n",
       "      <td>Euripides</td>\n",
       "      <td>Fragmenta</td>\n",
       "      <td>ποίαν σε φῶμεν γαῖαν ἐκλελοιπότα πόλει ξενοῦσθ...</td>\n",
       "      <td>17708</td>\n",
       "      <td>1Kgr</td>\n",
       "      <td>[[φημί, γῆ, ἐκλείπω, πόλις, ξενοῦσθαι], [πάτρα...</td>\n",
       "      <td>grecy</td>\n",
       "      <td>5 B.C.</td>\n",
       "      <td>-500.0</td>\n",
       "      <td>-401.0</td>\n",
       "      <td>False</td>\n",
       "      <td>[Tragici]</td>\n",
       "      <td>pagan</td>\n",
       "      <td>10277</td>\n",
       "    </tr>\n",
       "    <tr>\n",
       "      <th>10</th>\n",
       "      <td>tlg0007</td>\n",
       "      <td>tlg0007.tlg146</td>\n",
       "      <td>tlg0007.tlg146.1st1K-grc1.xml</td>\n",
       "      <td>Plutarch</td>\n",
       "      <td>Παροιμίαι αἷς Ἀλεξανδρεῖς ἐχρῶντο</td>\n",
       "      <td>Οἴκοι τὰ Μιλήσια: ἐπὶ τῶν ὅποι μὴ προςήκει τὴν...</td>\n",
       "      <td>2685</td>\n",
       "      <td>1Kgr</td>\n",
       "      <td>[[Μιλήσιος], [προςήκω, τρυφή, ἐπιδείκνυμι], [Ἀ...</td>\n",
       "      <td>grecy</td>\n",
       "      <td>A.D. 1-2</td>\n",
       "      <td>1.0</td>\n",
       "      <td>200.0</td>\n",
       "      <td>False</td>\n",
       "      <td>[Biographi, Philosophici/-ae]</td>\n",
       "      <td>pagan</td>\n",
       "      <td>1488</td>\n",
       "    </tr>\n",
       "    <tr>\n",
       "      <th>11</th>\n",
       "      <td>tlg0007</td>\n",
       "      <td>tlg0007.tlg147</td>\n",
       "      <td>tlg0007.tlg147.1st1K-grc1.xml</td>\n",
       "      <td>Plutarch</td>\n",
       "      <td>Ἐκλογὴ περὶ τῶν ἀδυνάτων</td>\n",
       "      <td>Κατὰ πετρῶν σπείρεις. Πλίνθον πλύνεις. Δικτύῳ ...</td>\n",
       "      <td>143</td>\n",
       "      <td>1Kgr</td>\n",
       "      <td>[[πέτρα, σπείρω], [Πλίνθος, πλύνω, Δίκτυον, ἄν...</td>\n",
       "      <td>grecy</td>\n",
       "      <td>A.D. 1-2</td>\n",
       "      <td>1.0</td>\n",
       "      <td>200.0</td>\n",
       "      <td>False</td>\n",
       "      <td>[Biographi, Philosophici/-ae]</td>\n",
       "      <td>pagan</td>\n",
       "      <td>125</td>\n",
       "    </tr>\n",
       "  </tbody>\n",
       "</table>\n",
       "</div>"
      ],
      "text/plain": [
       "   author_id          doc_id                       filename      author  \\\n",
       "2    ogl0001  ogl0001.ogl001  ogl0001.ogl001.1st1K-grc1.xml     Pinytus   \n",
       "8    tlg0005  tlg0005.tlg003  tlg0005.tlg003.1st1K-grc1.xml  Theocritus   \n",
       "9    tlg0006  tlg0006.tlg020  tlg0006.tlg020.1st1K-grc1.xml   Euripides   \n",
       "10   tlg0007  tlg0007.tlg146  tlg0007.tlg146.1st1K-grc1.xml    Plutarch   \n",
       "11   tlg0007  tlg0007.tlg147  tlg0007.tlg147.1st1K-grc1.xml    Plutarch   \n",
       "\n",
       "                                title  \\\n",
       "2     De Epistola Pinyti ad Dionysium   \n",
       "8                              Syrinx   \n",
       "9                           Fragmenta   \n",
       "10  Παροιμίαι αἷς Ἀλεξανδρεῖς ἐχρῶντο   \n",
       "11           Ἐκλογὴ περὶ τῶν ἀδυνάτων   \n",
       "\n",
       "                                               string  wordcount source  \\\n",
       "2   FRAGMENTUM BEATI PINYTI, CNOSSI IN CRETA EPISC...        180   1Kgr   \n",
       "8   Οὐδενὸς εὐνάτειρα Μακροπτολέμοιο δὲ μάτηρ  μαί...         77   1Kgr   \n",
       "9   ποίαν σε φῶμεν γαῖαν ἐκλελοιπότα πόλει ξενοῦσθ...      17708   1Kgr   \n",
       "10  Οἴκοι τὰ Μιλήσια: ἐπὶ τῶν ὅποι μὴ προςήκει τὴν...       2685   1Kgr   \n",
       "11  Κατὰ πετρῶν σπείρεις. Πλίνθον πλύνεις. Δικτύῳ ...        143   1Kgr   \n",
       "\n",
       "                                 lemmatized_sentences lemmata_source  \\\n",
       "2   [[Πινυτός, ἀντιγράφω, θαυμάζω, ἀποδέχω, Διονύσ...          grecy   \n",
       "8   [[οὐδενός, εὐνητήρ], [μακροπτολέμοιο, μήτηρ, μ...          grecy   \n",
       "9   [[φημί, γῆ, ἐκλείπω, πόλις, ξενοῦσθαι], [πάτρα...          grecy   \n",
       "10  [[Μιλήσιος], [προςήκω, τρυφή, ἐπιδείκνυμι], [Ἀ...          grecy   \n",
       "11  [[πέτρα, σπείρω], [Πλίνθος, πλύνω, Δίκτυον, ἄν...          grecy   \n",
       "\n",
       "    tlg_date  not_before  not_after date_uncertain  \\\n",
       "2       None       101.0      200.0           None   \n",
       "8   4-3 B.C.      -400.0     -201.0          False   \n",
       "9     5 B.C.      -500.0     -401.0          False   \n",
       "10  A.D. 1-2         1.0      200.0          False   \n",
       "11  A.D. 1-2         1.0      200.0          False   \n",
       "\n",
       "                      tlg_epithet provenience  lemmatacount  \n",
       "2                              []   christian            34  \n",
       "8                      [Bucolici]       pagan            61  \n",
       "9                       [Tragici]       pagan         10277  \n",
       "10  [Biographi, Philosophici/-ae]       pagan          1488  \n",
       "11  [Biographi, Philosophici/-ae]       pagan           125  "
      ]
     },
     "execution_count": 5,
     "metadata": {},
     "output_type": "execute_result"
    }
   ],
   "source": [
    "df.head()"
   ]
  },
  {
   "cell_type": "code",
   "execution_count": 6,
   "id": "a75b3668-b1a2-446c-8d74-cb7482e613b9",
   "metadata": {},
   "outputs": [],
   "source": [
    "df_filtered = df[df['lemmata_source'] != 'grecy'].copy() ##remove all automated lemmatazationc"
   ]
  },
  {
   "cell_type": "code",
   "execution_count": 8,
   "id": "f23f7791-ea3a-43ba-b70b-a04e23f21910",
   "metadata": {},
   "outputs": [
    {
     "data": {
      "text/plain": [
       "948"
      ]
     },
     "execution_count": 8,
     "metadata": {},
     "output_type": "execute_result"
    }
   ],
   "source": [
    "len(df_filtered)"
   ]
  },
  {
   "cell_type": "code",
   "execution_count": 22,
   "id": "550b3c5c-5e0c-48fe-8ffa-fbf767c3e053",
   "metadata": {},
   "outputs": [],
   "source": [
    "all_words = df_filtered['lemmatized_sentences'].tolist()\n",
    "\n",
    "flat_list = []\n",
    "for sublist in all_words:\n",
    "    for item in sublist:\n",
    "        if isinstance(item, np.ndarray):\n",
    "            item = item.tolist()  \n",
    "        flat_list.extend(item)  "
   ]
  },
  {
   "cell_type": "code",
   "execution_count": 27,
   "id": "9d987f25-1a3e-457a-8389-2c664bab953c",
   "metadata": {},
   "outputs": [],
   "source": [
    "# Convert Counter to DataFrame\n",
    "df_word_counts = pd.DataFrame.from_dict(word_counts, orient='index', columns=['Count'])\n",
    "df_word_counts.index.name = 'Word'\n",
    "\n",
    "# Reset index to make 'Word' a column\n",
    "df_word_counts = df_word_counts.reset_index()\n",
    "\n",
    "df_word_counts = df_word_counts.sort_values(by='Count', ascending=False)"
   ]
  },
  {
   "cell_type": "code",
   "execution_count": 28,
   "id": "0a85b016-374e-483c-8b54-4414f98402f0",
   "metadata": {},
   "outputs": [],
   "source": [
    "df_word_counts.to_csv('frequency_total_corpus.csv')"
   ]
  },
  {
   "cell_type": "code",
   "execution_count": 16,
   "id": "36868a14-852e-4b9d-bfce-5b58f335f51b",
   "metadata": {},
   "outputs": [],
   "source": [
    "def get_author_word_counts(df):\n",
    "    author_word_counts = {}\n",
    "    \n",
    "    # Group by 'author'\n",
    "    grouped = df.groupby('author')['lemmatized_sentences']\n",
    "    \n",
    "    for author, sentences_list in grouped:\n",
    "        flat_list = []\n",
    "        \n",
    "        # Iterate over each list of sentences\n",
    "        for sublist in sentences_list:\n",
    "            # Check if sublist is numpy.ndarray\n",
    "            if isinstance(sublist, np.ndarray):\n",
    "                sublist = sublist.tolist()\n",
    "            \n",
    "            # Extend flat_list with words\n",
    "            for item in sublist:\n",
    "                if isinstance(item, np.ndarray):\n",
    "                    item = item.tolist()\n",
    "                flat_list.extend(item)\n",
    "        \n",
    "        # Count word frequencies\n",
    "        word_counts = Counter(flat_list)\n",
    "        author_word_counts[author] = word_counts\n",
    "        \n",
    "    all_words = set(word for counts in author_word_counts.values() for word in counts)\n",
    "    data = {word: {author: counts.get(word, 0) for author, counts in author_word_counts.items()} for word in all_words}\n",
    "    df_word_counts = pd.DataFrame(data).T.fillna(0)\n",
    "    \n",
    "    word_totals = df_word_counts.sum(axis=1)\n",
    "    \n",
    "    sorted_words = word_totals.sort_values(ascending=False).index\n",
    "    \n",
    "    df_word_counts = df_word_counts.loc[sorted_words]\n",
    "    \n",
    "    return df_word_counts\n",
    "    return author_word_counts"
   ]
  },
  {
   "cell_type": "code",
   "execution_count": 17,
   "id": "a42dabf9-e4eb-46cc-963e-5480dca5e6d0",
   "metadata": {},
   "outputs": [],
   "source": [
    "author_matrix = get_author_word_counts(df_filtered)"
   ]
  },
  {
   "cell_type": "code",
   "execution_count": 20,
   "id": "b4ccc6ab-84e8-4cab-a4a7-84fc971e476c",
   "metadata": {},
   "outputs": [],
   "source": [
    "author_matrix.to_csv('author_matrix.csv')"
   ]
  },
  {
   "cell_type": "code",
   "execution_count": 10,
   "id": "f5b016b5-42c6-40e6-b5f6-b5a4ee227955",
   "metadata": {},
   "outputs": [],
   "source": [
    "import pandas as pd\n",
    "import numpy as np\n",
    "from collections import Counter\n",
    "\n",
    "def get_title_word_counts(df):\n",
    "    title_word_counts = {}\n",
    "    \n",
    "    grouped = df.groupby('title')['lemmatized_sentences']\n",
    "\n",
    "    for title, sentences_list in grouped:\n",
    "        flat_list = []\n",
    "\n",
    "        #convert to list\n",
    "        for sublist in sentences_list:\n",
    "            if isinstance(sublist, np.ndarray):\n",
    "                sublist = sublist.tolist()\n",
    "            \n",
    "            for item in sublist:\n",
    "                if isinstance(item, np.ndarray):\n",
    "                    item = item.tolist()\n",
    "                flat_list.extend(item)\n",
    "\n",
    "        \n",
    "        word_counts = Counter(flat_list)\n",
    "        title_word_counts[title] = word_counts\n",
    "        \n",
    "    all_words = set(word for counts in title_word_counts.values() for word in counts)\n",
    "    data = {word: {title: counts.get(word, 0) for title, counts in title_word_counts.items()} for word in all_words}\n",
    "    df_word_counts = pd.DataFrame(data).T.fillna(0)\n",
    "    \n",
    "    word_totals = df_word_counts.sum(axis=1)\n",
    "    \n",
    "    sorted_words = word_totals.sort_values(ascending=False).index\n",
    "    \n",
    "    df_word_counts = df_word_counts.loc[sorted_words]\n",
    "    \n",
    "    return df_word_counts"
   ]
  },
  {
   "cell_type": "code",
   "execution_count": 11,
   "id": "d721e3f5-5faa-4516-b500-fc019a0cf281",
   "metadata": {},
   "outputs": [],
   "source": [
    "title_matrix = get_title_word_counts(df_filtered)"
   ]
  },
  {
   "cell_type": "code",
   "execution_count": 12,
   "id": "38ba0e1f-ab60-4a20-b0a4-839dd21f68b6",
   "metadata": {},
   "outputs": [],
   "source": [
    "title_matrix.to_csv('title_matrix.csv')"
   ]
  },
  {
   "cell_type": "code",
   "execution_count": 29,
   "id": "aef55ec9-7438-404f-9a87-aa1659c316ab",
   "metadata": {},
   "outputs": [],
   "source": [
    "df_corpus = df[['author', 'title']]"
   ]
  },
  {
   "cell_type": "code",
   "execution_count": 30,
   "id": "7f8cfe18-c8e1-4084-8f91-dd7cf7215859",
   "metadata": {},
   "outputs": [],
   "source": [
    "df_corpus.to_csv('corpus_index.csv')"
   ]
  },
  {
   "cell_type": "code",
   "execution_count": null,
   "id": "e9f2ed5c-c12b-4d73-b4fb-15cf6ae6e6b5",
   "metadata": {},
   "outputs": [],
   "source": []
  }
 ],
 "metadata": {
  "kernelspec": {
   "display_name": "Python 3 (ipykernel)",
   "language": "python",
   "name": "python3"
  },
  "language_info": {
   "codemirror_mode": {
    "name": "ipython",
    "version": 3
   },
   "file_extension": ".py",
   "mimetype": "text/x-python",
   "name": "python",
   "nbconvert_exporter": "python",
   "pygments_lexer": "ipython3",
   "version": "3.12.4"
  }
 },
 "nbformat": 4,
 "nbformat_minor": 5
}
